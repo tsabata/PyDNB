{
 "cells": [
  {
   "cell_type": "code",
   "execution_count": 1,
   "metadata": {
    "collapsed": true
   },
   "outputs": [],
   "source": [
    "import matplotlib.pyplot as plt\n",
    "%matplotlib inline\n",
    "import seaborn as sns\n",
    "import numpy as np\n",
    "import pandas as pd\n",
    "import random\n",
    "import scipy.stats as st\n",
    "\n",
    "from pydnb.dnb import DNB"
   ]
  },
  {
   "cell_type": "code",
   "execution_count": 2,
   "metadata": {
    "collapsed": false
   },
   "outputs": [],
   "source": [
    "def change(A,state):\n",
    "    if random.random() > max(A[state]):\n",
    "        return int(not(state))\n",
    "    else:\n",
    "        return state\n",
    "    \n",
    "def generate_dataset(A,B,size=1000):\n",
    "    Y = []\n",
    "    X = []\n",
    "    state=random.randint(0,len(A)-1)\n",
    "    for i in range(size):\n",
    "        Y.append(state)\n",
    "        X.append(np.random.randn()*B[state][1]+B[state][0])\n",
    "        state=change(A,state)\n",
    "    df = pd.DataFrame({'state':Y,'obs':X})\n",
    "    return df"
   ]
  },
  {
   "cell_type": "code",
   "execution_count": 3,
   "metadata": {
    "collapsed": false
   },
   "outputs": [],
   "source": [
    "A = np.array([[0.7,0.3],[0.4,0.6]])\n",
    "B = [[6,5],[15,5]]\n",
    "df1 = generate_dataset(A,B)\n",
    "#plt.hist([df[df['state']==1].obs,df[df.state==0].obs],stacked=False, color = ['r','g'])\n",
    "#plt.legend(['state 1','state 0']);"
   ]
  },
  {
   "cell_type": "code",
   "execution_count": 4,
   "metadata": {
    "collapsed": false
   },
   "outputs": [],
   "source": [
    "hmm1 = DNB()\n",
    "hmm1.mle(df1,'state',features = {'obs':st.norm});"
   ]
  },
  {
   "cell_type": "code",
   "execution_count": 5,
   "metadata": {
    "collapsed": false
   },
   "outputs": [
    {
     "data": {
      "text/html": [
       "<div>\n",
       "<style>\n",
       "    .dataframe thead tr:only-child th {\n",
       "        text-align: right;\n",
       "    }\n",
       "\n",
       "    .dataframe thead th {\n",
       "        text-align: left;\n",
       "    }\n",
       "\n",
       "    .dataframe tbody tr th {\n",
       "        vertical-align: top;\n",
       "    }\n",
       "</style>\n",
       "<table border=\"1\" class=\"dataframe\">\n",
       "  <thead>\n",
       "    <tr style=\"text-align: right;\">\n",
       "      <th></th>\n",
       "      <th>0</th>\n",
       "      <th>1</th>\n",
       "    </tr>\n",
       "  </thead>\n",
       "  <tbody>\n",
       "    <tr>\n",
       "      <th>0</th>\n",
       "      <td>0.707665</td>\n",
       "      <td>0.292335</td>\n",
       "    </tr>\n",
       "    <tr>\n",
       "      <th>1</th>\n",
       "      <td>0.376712</td>\n",
       "      <td>0.623288</td>\n",
       "    </tr>\n",
       "  </tbody>\n",
       "</table>\n",
       "</div>"
      ],
      "text/plain": [
       "          0         1\n",
       "0  0.707665  0.292335\n",
       "1  0.376712  0.623288"
      ]
     },
     "execution_count": 5,
     "metadata": {},
     "output_type": "execute_result"
    }
   ],
   "source": [
    "pd.DataFrame(hmm1.A)"
   ]
  },
  {
   "cell_type": "code",
   "execution_count": 6,
   "metadata": {
    "collapsed": false
   },
   "outputs": [
    {
     "data": {
      "text/html": [
       "<div>\n",
       "<style>\n",
       "    .dataframe thead tr:only-child th {\n",
       "        text-align: right;\n",
       "    }\n",
       "\n",
       "    .dataframe thead th {\n",
       "        text-align: left;\n",
       "    }\n",
       "\n",
       "    .dataframe tbody tr th {\n",
       "        vertical-align: top;\n",
       "    }\n",
       "</style>\n",
       "<table border=\"1\" class=\"dataframe\">\n",
       "  <thead>\n",
       "    <tr>\n",
       "      <th></th>\n",
       "      <th>0</th>\n",
       "      <th>1</th>\n",
       "    </tr>\n",
       "    <tr>\n",
       "      <th></th>\n",
       "      <th>obs</th>\n",
       "      <th>obs</th>\n",
       "    </tr>\n",
       "  </thead>\n",
       "  <tbody>\n",
       "    <tr>\n",
       "      <th>0</th>\n",
       "      <td>5.494299</td>\n",
       "      <td>15.199923</td>\n",
       "    </tr>\n",
       "    <tr>\n",
       "      <th>1</th>\n",
       "      <td>4.989762</td>\n",
       "      <td>5.017811</td>\n",
       "    </tr>\n",
       "  </tbody>\n",
       "</table>\n",
       "</div>"
      ],
      "text/plain": [
       "          0          1\n",
       "        obs        obs\n",
       "0  5.494299  15.199923\n",
       "1  4.989762   5.017811"
      ]
     },
     "execution_count": 6,
     "metadata": {},
     "output_type": "execute_result"
    }
   ],
   "source": [
    "pd.DataFrame(hmm1.B)"
   ]
  },
  {
   "cell_type": "code",
   "execution_count": 8,
   "metadata": {
    "collapsed": false
   },
   "outputs": [
    {
     "name": "stdout",
     "output_type": "stream",
     "text": [
      "0.0784116465665\n",
      "0.292335115865\n"
     ]
    }
   ],
   "source": [
    "print(hmm1.emission_prob(0,df1.iloc[2]))\n",
    "print(hmm1.transition_prob(0,1))"
   ]
  },
  {
   "cell_type": "code",
   "execution_count": 9,
   "metadata": {
    "collapsed": false
   },
   "outputs": [
    {
     "data": {
      "text/plain": [
       "-20126.56716635199"
      ]
     },
     "execution_count": 9,
     "metadata": {},
     "output_type": "execute_result"
    }
   ],
   "source": [
    "sum(hmm1._forward(df1,k=10))"
   ]
  },
  {
   "cell_type": "code",
   "execution_count": 10,
   "metadata": {
    "collapsed": false
   },
   "outputs": [],
   "source": [
    "df=hmm1.sample(100)[0]"
   ]
  },
  {
   "cell_type": "code",
   "execution_count": 11,
   "metadata": {
    "collapsed": false
   },
   "outputs": [
    {
     "data": {
      "text/plain": [
       "-370.71652917997551"
      ]
     },
     "execution_count": 11,
     "metadata": {},
     "output_type": "execute_result"
    }
   ],
   "source": [
    "hmm1.seq_probability(df,df.state)"
   ]
  },
  {
   "cell_type": "code",
   "execution_count": 16,
   "metadata": {
    "collapsed": true
   },
   "outputs": [],
   "source": [
    "A = np.array([[0.4,0.6],[0.3,0.7]])\n",
    "B = [[3,6],[8,4]]\n",
    "df2 = generate_dataset(A,B)"
   ]
  },
  {
   "cell_type": "code",
   "execution_count": 17,
   "metadata": {
    "collapsed": true
   },
   "outputs": [],
   "source": [
    "hmm2 = DNB()\n",
    "hmm2.mle(df2,'state',features = {'obs':st.norm});"
   ]
  },
  {
   "cell_type": "code",
   "execution_count": 19,
   "metadata": {
    "collapsed": false
   },
   "outputs": [
    {
     "name": "stdout",
     "output_type": "stream",
     "text": [
      "done\n",
      "hmm1-->hmm2: 4.507563\n",
      "hmm2-->hmm1: 4.493925\n",
      "hmm1-->hmm1: 3.658753\n",
      "hmm2-->hmm2: 3.599807\n"
     ]
    }
   ],
   "source": [
    "from pydnb.utils import output_sequence_distance\n",
    "dist_hmm1_hmm2=output_sequence_distance(hmm1,hmm2,seq_len=300,sequences=10)\n",
    "print('done')\n",
    "dist_hmm2_hmm1=output_sequence_distance(hmm2,hmm1,seq_len=300,sequences=10)\n",
    "dist_hmm1_hmm1=output_sequence_distance(hmm1,hmm1,seq_len=300,sequences=10)\n",
    "dist_hmm2_hmm2=output_sequence_distance(hmm2,hmm2,seq_len=300,sequences=10)\n",
    "print(\"hmm1-->hmm2: %f\\nhmm2-->hmm1: %f\\nhmm1-->hmm1: %f\\nhmm2-->hmm2: %f\"%(dist_hmm1_hmm2,dist_hmm2_hmm1,dist_hmm1_hmm1,dist_hmm2_hmm2))"
   ]
  },
  {
   "cell_type": "code",
   "execution_count": null,
   "metadata": {
    "collapsed": false
   },
   "outputs": [],
   "source": [
    "hmm1.B"
   ]
  },
  {
   "cell_type": "code",
   "execution_count": null,
   "metadata": {
    "collapsed": true
   },
   "outputs": [],
   "source": []
  }
 ],
 "metadata": {
  "anaconda-cloud": {},
  "kernelspec": {
   "display_name": "Python [Root]",
   "language": "python",
   "name": "Python [Root]"
  },
  "language_info": {
   "codemirror_mode": {
    "name": "ipython",
    "version": 3
   },
   "file_extension": ".py",
   "mimetype": "text/x-python",
   "name": "python",
   "nbconvert_exporter": "python",
   "pygments_lexer": "ipython3",
   "version": "3.5.2"
  }
 },
 "nbformat": 4,
 "nbformat_minor": 1
}
