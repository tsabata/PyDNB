{
 "cells": [
  {
   "cell_type": "code",
   "execution_count": null,
   "metadata": {
    "collapsed": true
   },
   "outputs": [],
   "source": [
    "import matplotlib.pyplot as plt\n",
    "%matplotlib inline\n",
    "import seaborn as sns"
   ]
  },
  {
   "cell_type": "code",
   "execution_count": null,
   "metadata": {
    "collapsed": false
   },
   "outputs": [],
   "source": [
    "import numpy as np\n",
    "import pandas as pd\n",
    "import random\n",
    "\n",
    "def change(A,state):\n",
    "    if random.random() > max(A[state]):\n",
    "        return int(not(state))\n",
    "    else:\n",
    "        return state\n",
    "    \n",
    "def generate_dataset(A,B,size=1000):\n",
    "    Y = []\n",
    "    X = []\n",
    "    state=random.randint(0,len(A)-1)\n",
    "    for i in range(size):\n",
    "        Y.append(state)\n",
    "        X.append(np.random.randn()*B[state][1]+B[state][0])\n",
    "        state=change(A,state)\n",
    "    df = pd.DataFrame({'state':Y,'obs':X})\n",
    "    return df"
   ]
  },
  {
   "cell_type": "code",
   "execution_count": null,
   "metadata": {
    "collapsed": false
   },
   "outputs": [],
   "source": [
    "A = np.array([[0.7,0.3],[0.4,0.6]])\n",
    "B = [[6,5],[15,5]]\n",
    "df = generate_dataset(A,B)\n",
    "plt.hist([df[df['state']==1].obs,df[df.state==0].obs],stacked=False, color = ['r','g'])\n",
    "plt.legend(['state 1','state 0']);"
   ]
  },
  {
   "cell_type": "code",
   "execution_count": null,
   "metadata": {
    "collapsed": true
   },
   "outputs": [],
   "source": [
    "from pydnb.dnb import DNB"
   ]
  },
  {
   "cell_type": "code",
   "execution_count": null,
   "metadata": {
    "collapsed": false
   },
   "outputs": [],
   "source": [
    "hmm = DNB()\n",
    "hmm.mle(df,'state');"
   ]
  },
  {
   "cell_type": "code",
   "execution_count": null,
   "metadata": {
    "collapsed": false
   },
   "outputs": [],
   "source": [
    "pd.DataFrame(hmm.B)"
   ]
  },
  {
   "cell_type": "code",
   "execution_count": null,
   "metadata": {
    "collapsed": false
   },
   "outputs": [],
   "source": [
    "print(hmm.emission_prob(0,df.iloc[2]))\n",
    "print(hmm.transition_prob(0,1))"
   ]
  },
  {
   "cell_type": "code",
   "execution_count": null,
   "metadata": {
    "collapsed": true
   },
   "outputs": [],
   "source": []
  }
 ],
 "metadata": {
  "anaconda-cloud": {},
  "kernelspec": {
   "display_name": "Python [conda root]",
   "language": "python",
   "name": "conda-root-py"
  },
  "language_info": {
   "codemirror_mode": {
    "name": "ipython",
    "version": 3
   },
   "file_extension": ".py",
   "mimetype": "text/x-python",
   "name": "python",
   "nbconvert_exporter": "python",
   "pygments_lexer": "ipython3",
   "version": "3.5.2"
  }
 },
 "nbformat": 4,
 "nbformat_minor": 1
}
